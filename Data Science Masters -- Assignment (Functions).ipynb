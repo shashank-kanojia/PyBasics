{
 "cells": [
  {
   "attachments": {},
   "cell_type": "markdown",
   "metadata": {},
   "source": [
    "# Functions\n",
    "\n",
    "##### A function is a re-usable part of the code that can be called multiple times in a program to perform the same set of tasks repeatedly.\n",
    "\n",
    "##### Functions help in managing complex programs by breaking it into smaller chunks, which can be quickly updated for any change. This approach is more efficient and less error-prone.\n",
    "\n",
    "##### We define a function using the __def__ keyword followed by the function name, and a set of parentheses containing any arguments that might be used in the function.\n",
    "\n",
    "##### To call a function, we simply need to provide the function name alongwith any required arguments.\n",
    "\n",
    "##### A function always returns something, that can be stored in a variable or used for some calculation. If we don't specify the __return__ value, the it returns __None__ by default.\n",
    "\n",
    "##### Example would be \n",
    "\n",
    "##### ============\n",
    "\n",
    "___# with arguments___\n",
    "\n",
    "___def addNumbers(a, b):___\n",
    "\n",
    "##### ============\n",
    "##### or\n",
    "##### ============\n",
    "\n",
    "___# without arguments___\n",
    "\n",
    "___def getDate():___\n",
    "\n",
    "##### ============"
   ]
  },
  {
   "cell_type": "code",
   "execution_count": 1,
   "metadata": {},
   "outputs": [
    {
     "data": {
      "text/plain": [
       "[1, 3, 5, 7, 9, 11, 13, 15, 17, 19, 21, 23, 25]"
      ]
     },
     "execution_count": 1,
     "metadata": {},
     "output_type": "execute_result"
    }
   ],
   "source": [
    "# Below is the function to return odd numbers between 1 and 25\n",
    "\n",
    "def get_odd_numbers():\n",
    "    odd_numbers = []\n",
    "\n",
    "    for i in range(1, 26):\n",
    "        if i % 2 != 0:\n",
    "            odd_numbers.append(i)\n",
    "\n",
    "    return odd_numbers\n",
    "\n",
    "get_odd_numbers()"
   ]
  },
  {
   "attachments": {},
   "cell_type": "markdown",
   "metadata": {},
   "source": [
    "***\n",
    "\n",
    "### *args and **kwargs\n",
    "\n",
    "* By default, a function call would accept only the specified number of arguments as in the function definition.\n",
    "* However, there might be a situation where we want a function accept any number of arguments and do the required processing on all of that.\n",
    "* In that case, we can specify the arguments in the function definition as *args (args is not a keyword)\n",
    "* The function call would then consider all the arguments passed to it without throwing any error\n",
    "* The function collects all the arguments passed in the function call in a tuple\n",
    "\n",
    "==================\n",
    "\n",
    "* The same principle applies to the **kwargs, where kwargs is \"keyword arguments\". (kwargs is not a keyword)\n",
    "* This functionality is used if we want to have a named list of arguments.\n",
    "* The function collects all the arguments passed in the function call in a dictionary, where key is the argument name and value is the argument value."
   ]
  },
  {
   "cell_type": "code",
   "execution_count": 2,
   "metadata": {},
   "outputs": [],
   "source": [
    "def get_numbers(*numbers):\n",
    "    return numbers\n",
    "\n",
    "def get_sum(*nums):\n",
    "    return sum(nums)\n",
    "\n",
    "def get_all_data(**fields):\n",
    "    return fields"
   ]
  },
  {
   "cell_type": "code",
   "execution_count": 3,
   "metadata": {},
   "outputs": [
    {
     "name": "stdout",
     "output_type": "stream",
     "text": [
      "(1, 2, 3, 4, 5)\n",
      "15\n",
      "{'name': 'Shashank', 'age': 34, 'height': 5.1}\n"
     ]
    }
   ],
   "source": [
    "print(get_numbers(1, 2, 3, 4, 5))\n",
    "\n",
    "print(get_sum(1, 2, 3, 4, 5))\n",
    "\n",
    "print(get_all_data(name='Shashank', age=34, height=5.10))"
   ]
  },
  {
   "attachments": {},
   "cell_type": "markdown",
   "metadata": {},
   "source": [
    "***\n",
    "\n",
    "### Iterators\n",
    "\n",
    "##### Iterators are used to iterate through a collection of elements (list/ tuple) and perform actions on each element.\n",
    "\n",
    "##### We can use Python's built-in ___iter()___ to traverse through the given iterable (collection), and move to the ___next()___ iteration once done processing the current instance. "
   ]
  },
  {
   "cell_type": "code",
   "execution_count": 4,
   "metadata": {},
   "outputs": [
    {
     "name": "stdout",
     "output_type": "stream",
     "text": [
      "2\n",
      "4\n",
      "6\n",
      "8\n",
      "10\n"
     ]
    }
   ],
   "source": [
    "# Using an iterator below to traverse through the elements of the list and print the first 5 elements.\n",
    "\n",
    "my_list = [2, 4, 6, 8, 10, 12, 14, 16, 18, 20]\n",
    "\n",
    "iterator = iter(my_list)\n",
    "\n",
    "for i in range(5):\n",
    "    print(next(iterator))"
   ]
  },
  {
   "attachments": {},
   "cell_type": "markdown",
   "metadata": {},
   "source": [
    "***\n",
    "\n",
    "### Generator functions\n",
    "\n",
    "* Generator functions in Python are used to generate a sequence of values.\n",
    "* A Generator function's output will not occupy all the memory when that function is called. Instead the function generates the sequence in steps, and only uses its last iteration to generate the data for the next step.\n",
    "* The memory location required for the total output is used only when that output is assigned to a variable.\n",
    "* To achieve this, a Generator function uses ___yield___ instead of ___return___. Unlike ___return___ statement which exits the function, ___yield___ outputs the value and then continues with the execution of the lines following it.\n",
    "* A very common Generator function is the ___range()___ function."
   ]
  },
  {
   "cell_type": "code",
   "execution_count": 5,
   "metadata": {},
   "outputs": [
    {
     "name": "stdout",
     "output_type": "stream",
     "text": [
      "range(1, 11)\n"
     ]
    }
   ],
   "source": [
    "# The below only creates a 'range' object instead of creating the list of 10 numbers.\n",
    "\n",
    "print(range(1, 11))"
   ]
  },
  {
   "cell_type": "code",
   "execution_count": 6,
   "metadata": {},
   "outputs": [
    {
     "name": "stdout",
     "output_type": "stream",
     "text": [
      "[1, 2, 3, 4, 5, 6, 7, 8, 9, 10]\n",
      "\n",
      "1\n",
      "2\n",
      "3\n",
      "4\n",
      "5\n",
      "6\n",
      "7\n",
      "8\n",
      "9\n",
      "10\n"
     ]
    }
   ],
   "source": [
    "# However, the memory location is used by the 10 numbers as soon as we loop through the object's output or assign it to a variable\n",
    "\n",
    "# Converting to a list\n",
    "print(list(range(1, 11)))\n",
    "\n",
    "print()\n",
    "\n",
    "# Iterating using 'for' loop\n",
    "for number in range(1, 11):\n",
    "    print(number)"
   ]
  },
  {
   "cell_type": "code",
   "execution_count": 7,
   "metadata": {},
   "outputs": [],
   "source": [
    "# Generator function to create a list of prime numbers less than 1000\n",
    "def generate_primes(n):\n",
    "    for i in range(2, n + 1):\n",
    "        not_prime_flag = False\n",
    "        for j in range(2, int(i ** 0.5) + 1):\n",
    "            if i % j == 0:\n",
    "                not_prime_flag = True\n",
    "                break        \n",
    "        if not_prime_flag:\n",
    "            continue        \n",
    "        yield i\n"
   ]
  },
  {
   "cell_type": "code",
   "execution_count": 9,
   "metadata": {},
   "outputs": [
    {
     "name": "stdout",
     "output_type": "stream",
     "text": [
      "2, 3, 5, 7, 11, 13, 17, 19, 23, 29, 31, 37, 41, 43, 47, 53, 59, 61, 67, 71, "
     ]
    }
   ],
   "source": [
    "# Getting the first 20 primes from the list of primes up to 1000\n",
    "primes = list(generate_primes(1000))\n",
    "\n",
    "iterator = iter(primes)\n",
    "\n",
    "for i in range(20):\n",
    "    print(next(iterator), end = ', ')"
   ]
  },
  {
   "cell_type": "code",
   "execution_count": null,
   "metadata": {},
   "outputs": [],
   "source": []
  }
 ],
 "metadata": {
  "kernelspec": {
   "display_name": "Python 3",
   "language": "python",
   "name": "python3"
  },
  "language_info": {
   "codemirror_mode": {
    "name": "ipython",
    "version": 3
   },
   "file_extension": ".py",
   "mimetype": "text/x-python",
   "name": "python",
   "nbconvert_exporter": "python",
   "pygments_lexer": "ipython3",
   "version": "3.11.3"
  },
  "orig_nbformat": 4
 },
 "nbformat": 4,
 "nbformat_minor": 2
}
