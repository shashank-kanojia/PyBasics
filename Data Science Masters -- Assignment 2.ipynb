{
 "cells": [
  {
   "attachments": {},
   "cell_type": "markdown",
   "metadata": {},
   "source": [
    "### Comments in Python\n",
    "\n",
    "* _Single-line comments_: We can comment a single line in our Python code by adding a hash symbol (__#__) at the beginning of the line.\n",
    "\n",
    "* _Multi-line comments_: We can comment multiple lines at a time by surrounding them between triple quotation marks - (both single and double quotes would work)"
   ]
  },
  {
   "cell_type": "code",
   "execution_count": null,
   "metadata": {},
   "outputs": [],
   "source": [
    "# This is a single-line comment. This line would be ignored by the interpreter and the execution will move to the next line.\n",
    "# print('This print statement will be skipped!')\n",
    "\n",
    "print('This print statement is executed after the single-line comment.')\n",
    "\n",
    "'''\n",
    "This is an example of a multi-line comment.\n",
    "\n",
    "The interpreter will ignore all the content between the triple-quotes and move to the next line following the comment(s).\n",
    "\n",
    "print('Even this print statement will be skipped!')\n",
    "'''\n",
    "\n",
    "\"\"\"\n",
    "The interpreter will ignore this line as well, as we are using multi-line comment functionality...\n",
    "\n",
    "using double-quotes.\n",
    "\n",
    "print('Finally, this print statement will also be skipped')\n",
    "\"\"\"\n",
    "\n",
    "print('This print statement is executed after the multi-line comments.')"
   ]
  },
  {
   "attachments": {},
   "cell_type": "markdown",
   "metadata": {},
   "source": [
    "***\n",
    "\n",
    "### Variables in Python\n",
    "\n",
    "* Variables are containers in Python that can be used to store a value, which can then be used in the program later on. You can think of variables as the name (or label) of the memory location where the given value is stored.\n",
    "* To create a variable, you simply need to name it and provide an initial value. You don't need to define the type of data that would be stored in this variable.\n",
    "* Variable names can only start with either an alphabet or an underscore. Hence, *my_age*, *name1*, and *_height* are valid variable names; whereas, *#age*, *4_squared*, *@_sum* are not.\n",
    "* As a result, you can also later overwrite the content in this variable with a value of different data type. This can be both, a boon and a curse (if not managed properly).\n",
    "\n"
   ]
  },
  {
   "cell_type": "code",
   "execution_count": null,
   "metadata": {},
   "outputs": [],
   "source": [
    "my_age = 34\n",
    "height = 5.10\n",
    "\n",
    "print(my_age)\n",
    "print(height)"
   ]
  },
  {
   "attachments": {},
   "cell_type": "markdown",
   "metadata": {},
   "source": [
    "***\n",
    "\n",
    "### Type conversion\n",
    "\n",
    "* To convert a variable from one type to another, we can use the casting functions for the required data type.\n",
    "* Use *int(variable_name)* to convert the data to an integer.\n",
    "* Use *float(variable_name)* to convert the data to a floating point number.\n",
    "* Use *str(variable_name)* to convert the data to a string.\n",
    "* __[IMP]__: Converting a variable to an incompatible type would result in a run-time error (*for example converting a non-numeric or alpha-numeric string to an integer or float*); thereby halting further program execution."
   ]
  },
  {
   "cell_type": "code",
   "execution_count": null,
   "metadata": {},
   "outputs": [],
   "source": [
    "my_int = 90\n",
    "my_float = 3.141592653\n",
    "my_str = 'Shashank'\n",
    "\n",
    "print(int(my_float))\n",
    "print(float(my_int))\n",
    "print(str(my_int))\n",
    "\n",
    "# Uncommenting the below line will result in a run-time error\n",
    "# print(int(my_str))\n"
   ]
  },
  {
   "attachments": {},
   "cell_type": "markdown",
   "metadata": {},
   "source": [
    "***\n",
    "\n",
    "##### To execute a saved file from the command line:\n",
    "* Navigate to the directory of the program\n",
    "* Type __python your_python_filename.py__ and press enter\n",
    "* Alternatively, you can copy the entire filepath of your py file alongwith the filename, and in the command line type __python entire_filepath\\your_python_file.py__ and press enter.\n",
    "* Substitute the __python__ command above with __python3__ if required."
   ]
  },
  {
   "cell_type": "code",
   "execution_count": null,
   "metadata": {},
   "outputs": [],
   "source": [
    "my_list = [1, 2, 3, 4, 5]\n",
    "\n",
    "print(my_list[1:3]) # Extracting sub-list from the main list using slicing operation"
   ]
  },
  {
   "attachments": {},
   "cell_type": "markdown",
   "metadata": {},
   "source": [
    "***\n",
    "\n",
    "### Complex numbers in Python\n",
    "\n",
    "* A complex number in mathematics is formed from a combination of a _real_ number and an _imaginary_ number.\n",
    "* In Python, a complex number is defined as _(real + imaginary)_ where imaginary part is a multiple of **j** (mathematics equivalent of **i** --> square root of negative 1)\n",
    "* The imaginary part **j** needs to have a numeric multiple (albeit 1). Without the multiple, the program would throw a run-time error.\n",
    "* The round brackets are not required, but can be used for clarity."
   ]
  },
  {
   "cell_type": "code",
   "execution_count": null,
   "metadata": {},
   "outputs": [],
   "source": [
    "complex_number_1 = (3 + 5j)\n",
    "\n",
    "complex_number_2 = (99 + 1j)\n",
    "\n",
    "print(type(complex_number_1), ' | ', type(complex_number_2))"
   ]
  },
  {
   "cell_type": "code",
   "execution_count": null,
   "metadata": {},
   "outputs": [],
   "source": [
    "# Declaring a variable named age, and assigning a value to it\n",
    "\n",
    "age = 25"
   ]
  },
  {
   "cell_type": "code",
   "execution_count": null,
   "metadata": {},
   "outputs": [],
   "source": [
    "# Declaring a variable named price, assigning a value with decimals, and checking its data type -- it is saved as a floating point number in Python\n",
    "\n",
    "price = 9.99\n",
    "\n",
    "print(type(price))"
   ]
  },
  {
   "cell_type": "code",
   "execution_count": null,
   "metadata": {},
   "outputs": [],
   "source": [
    "# Declaring a string variable with name stored in it\n",
    "\n",
    "name = 'Shashank Kanojia'\n",
    "\n",
    "print(name)"
   ]
  },
  {
   "cell_type": "code",
   "execution_count": null,
   "metadata": {},
   "outputs": [],
   "source": [
    "# Extracting substring from a string using index-based slicing, using a new variable to store the result and then printing it\n",
    "\n",
    "my_str = 'Hello World!'\n",
    "\n",
    "my_substr = my_str[6:-1]\n",
    "\n",
    "print(my_substr)"
   ]
  },
  {
   "cell_type": "code",
   "execution_count": null,
   "metadata": {},
   "outputs": [],
   "source": [
    "# Boolean variable to store the current student status\n",
    "\n",
    "is_student = True\n",
    "\n",
    "print(type(is_student), ' | ', int(is_student))"
   ]
  }
 ],
 "metadata": {
  "kernelspec": {
   "display_name": "Python 3",
   "language": "python",
   "name": "python3"
  },
  "language_info": {
   "codemirror_mode": {
    "name": "ipython",
    "version": 3
   },
   "file_extension": ".py",
   "mimetype": "text/x-python",
   "name": "python",
   "nbconvert_exporter": "python",
   "pygments_lexer": "ipython3",
   "version": "3.11.3"
  },
  "orig_nbformat": 4
 },
 "nbformat": 4,
 "nbformat_minor": 2
}
