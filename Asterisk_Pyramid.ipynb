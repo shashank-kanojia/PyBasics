{
 "cells": [
  {
   "cell_type": "code",
   "execution_count": 74,
   "metadata": {},
   "outputs": [
    {
     "name": "stdout",
     "output_type": "stream",
     "text": [
      "                                                  *\n",
      "                                                *****\n",
      "                                              *********\n",
      "                                            *************\n",
      "                                          *****************\n",
      "                                        *********************\n",
      "                                      *************************\n",
      "                                    *****************************\n",
      "                                  *********************************\n",
      "                                *************************************\n",
      "                              *****************************************\n",
      "                            *********************************************\n",
      "                          *************************************************\n",
      "                        *****************************************************\n",
      "                      *********************************************************\n",
      "                    *************************************************************\n",
      "                  *****************************************************************\n",
      "                *********************************************************************\n",
      "              *************************************************************************\n",
      "            *****************************************************************************\n",
      "          *********************************************************************************\n",
      "        *************************************************************************************\n",
      "      *****************************************************************************************\n",
      "    *********************************************************************************************\n",
      "  *************************************************************************************************\n"
     ]
    }
   ],
   "source": [
    "def create_pyramid(num):\n",
    "    for i in range(num):\n",
    "        if i % 4 == 0:  # Check if the current row index is divisible by 4\n",
    "            # Calculate and print the required number of spaces for indentation\n",
    "            print(' ' * int(((num - i) / 2)), end='')\n",
    "\n",
    "            for j in range(i + 1):  # Iterate to print the stars in the current row\n",
    "                print('*', end='')  # Print a single star\n",
    "\n",
    "            print()  # Move to the next line for the next row\n",
    "\n",
    "# Call the function with the desired number of rows\n",
    "num_rows = 100\n",
    "create_pyramid(num_rows)\n"
   ]
  },
  {
   "cell_type": "code",
   "execution_count": null,
   "metadata": {},
   "outputs": [],
   "source": []
  }
 ],
 "metadata": {
  "kernelspec": {
   "display_name": "Python 3",
   "language": "python",
   "name": "python3"
  },
  "language_info": {
   "codemirror_mode": {
    "name": "ipython",
    "version": 3
   },
   "file_extension": ".py",
   "mimetype": "text/x-python",
   "name": "python",
   "nbconvert_exporter": "python",
   "pygments_lexer": "ipython3",
   "version": "3.11.3"
  },
  "orig_nbformat": 4
 },
 "nbformat": 4,
 "nbformat_minor": 2
}
