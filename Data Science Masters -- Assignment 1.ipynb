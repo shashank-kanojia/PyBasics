{
 "cells": [
  {
   "cell_type": "code",
   "execution_count": 1,
   "metadata": {},
   "outputs": [],
   "source": [
    "name = 'Shashank'\n",
    "age = 33\n",
    "height = 5.10\n",
    "location = (3.24, 9.87)"
   ]
  },
  {
   "cell_type": "code",
   "execution_count": 2,
   "metadata": {},
   "outputs": [
    {
     "name": "stdout",
     "output_type": "stream",
     "text": [
      "<class 'str'>\n",
      "<class 'str'>\n",
      "<class 'list'>\n",
      "<class 'float'>\n"
     ]
    }
   ],
   "source": [
    "var1 = '' # Contains a blank string value - STR data type\n",
    "var2 = '[DS, ML, Python]' # Contains a string value - will be str data type irrespective of a list being passed. The interpreter will still consider this as a STR\n",
    "var3 = ['DS', 'ML', 'Python'] # Contains a list of elements\n",
    "var4 = 1. # Will be considered as a float even though we have not specified any digits in the decimal place.\n",
    "\n",
    "print(type(var1))\n",
    "print(type(var2))\n",
    "print(type(var3))\n",
    "print(type(var4))"
   ]
  },
  {
   "cell_type": "code",
   "execution_count": 3,
   "metadata": {},
   "outputs": [
    {
     "name": "stdout",
     "output_type": "stream",
     "text": [
      "16.8\n",
      "4\n",
      "16\n",
      "4182119424\n"
     ]
    }
   ],
   "source": [
    "num1 = 84\n",
    "num2 = 5\n",
    "\n",
    "print(num1 / num2) # Returns the exact (floating point) value of the division\n",
    "print(num1 % num2) # Returns the remainder of the division operation\n",
    "print(num1 // num2) # Returns the integer (whole number) quotient of the division (excludes the remainder part)\n",
    "print(num1 ** num2) # Raising the first number to the power of the second number"
   ]
  },
  {
   "cell_type": "code",
   "execution_count": 4,
   "metadata": {},
   "outputs": [
    {
     "name": "stdout",
     "output_type": "stream",
     "text": [
      "-1  --  <class 'int'>\n",
      "2  --  <class 'int'>\n",
      "3.0  --  <class 'float'>\n",
      "4  --  <class 'str'>\n",
      "5  --  <class 'int'>\n",
      "Shashank  --  <class 'str'>\n",
      "Data Science  --  <class 'str'>\n",
      "(7+9j)  --  <class 'complex'>\n",
      "<built-in function print>  --  <class 'builtin_function_or_method'>\n",
      "5.1  --  <class 'float'>\n"
     ]
    }
   ],
   "source": [
    "my_list = [-1, 2, 3.0, '4', 5, 'Shashank', 'Data Science', 7 + 9j, print, height]\n",
    "\n",
    "for item in my_list:\n",
    "    print(item, \" -- \", type(item))"
   ]
  },
  {
   "cell_type": "code",
   "execution_count": 5,
   "metadata": {},
   "outputs": [
    {
     "name": "stdout",
     "output_type": "stream",
     "text": [
      "100 can be divided 5 times by 20\n"
     ]
    }
   ],
   "source": [
    "num_a = 100\n",
    "num_b = 20\n",
    "\n",
    "original_num = num_a\n",
    "\n",
    "counter = 0\n",
    "\n",
    "if num_a % num_b == 0:\n",
    "    while num_a > 0:\n",
    "        num_a -= num_b\n",
    "        counter += 1\n",
    "    print(f'{original_num} can be divided {counter} times by {num_b}')"
   ]
  },
  {
   "cell_type": "code",
   "execution_count": 6,
   "metadata": {},
   "outputs": [
    {
     "name": "stdout",
     "output_type": "stream",
     "text": [
      "1 is not divisible by 3\n",
      "2 is not divisible by 3\n",
      "3 is divisible by 3\n",
      "4 is not divisible by 3\n",
      "5 is not divisible by 3\n",
      "6 is divisible by 3\n",
      "7 is not divisible by 3\n",
      "8 is not divisible by 3\n",
      "9 is divisible by 3\n",
      "10 is not divisible by 3\n",
      "11 is not divisible by 3\n",
      "12 is divisible by 3\n",
      "13 is not divisible by 3\n",
      "14 is not divisible by 3\n",
      "15 is divisible by 3\n",
      "16 is not divisible by 3\n",
      "17 is not divisible by 3\n",
      "18 is divisible by 3\n",
      "19 is not divisible by 3\n",
      "20 is not divisible by 3\n",
      "21 is divisible by 3\n",
      "22 is not divisible by 3\n",
      "23 is not divisible by 3\n",
      "24 is divisible by 3\n",
      "25 is not divisible by 3\n"
     ]
    }
   ],
   "source": [
    "num_list = [1, 2, 3, 4, 5, 6, 7, 8, 9, 10, 11, 12, 13, 14, 15, 16, 17, 18, 19, 20, 21, 22, 23, 24, 25]\n",
    "\n",
    "for number in num_list:\n",
    "    if number % 3 == 0:\n",
    "        print(f'{number} is divisible by 3')\n",
    "    else:\n",
    "        print(f'{number} is not divisible by 3')"
   ]
  },
  {
   "cell_type": "code",
   "execution_count": 7,
   "metadata": {},
   "outputs": [],
   "source": [
    "\"\"\"\n",
    "Immutable data types are the ones where we cannot change the value contained in that variable. We need to create a new instance of the variable to update a data point at a given index. String and Tuple are the examples of Immutable data type.\n",
    "\n",
    "Both the operations below would result in an error when uncommented\n",
    "\"\"\"\n",
    "\n",
    "# name[0] = 'P'\n",
    "# location[1] = (10.2)\n",
    "\n",
    "\"\"\"\n",
    "Mutable data types are the ones where we can change the value contained in that variable in the same instance. Lists and Dictionaries are the examples of Mutable data type.\n",
    "\n",
    "Both the operations below would work fine\n",
    "\"\"\"\n",
    "\n",
    "num_list[0] = 99\n",
    "\n",
    "my_dict = {'name': 'Shashank', 'age': 33, 'height': 5.10}\n",
    "my_dict['name'] = 'PW Skills'"
   ]
  },
  {
   "cell_type": "code",
   "execution_count": null,
   "metadata": {},
   "outputs": [],
   "source": []
  }
 ],
 "metadata": {
  "kernelspec": {
   "display_name": "Python 3",
   "language": "python",
   "name": "python3"
  },
  "language_info": {
   "codemirror_mode": {
    "name": "ipython",
    "version": 3
   },
   "file_extension": ".py",
   "mimetype": "text/x-python",
   "name": "python",
   "nbconvert_exporter": "python",
   "pygments_lexer": "ipython3",
   "version": "3.11.3"
  },
  "orig_nbformat": 4
 },
 "nbformat": 4,
 "nbformat_minor": 2
}
